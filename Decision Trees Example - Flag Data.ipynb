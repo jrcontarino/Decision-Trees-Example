{
 "cells": [
  {
   "cell_type": "markdown",
   "metadata": {},
   "source": [
    "# Decision Trees for Flag Data"
   ]
  },
  {
   "cell_type": "markdown",
   "metadata": {},
   "source": [
    "## Import Packages"
   ]
  },
  {
   "cell_type": "code",
   "execution_count": 1,
   "metadata": {},
   "outputs": [],
   "source": [
    "import pandas as pd\n",
    "from sklearn.model_selection import train_test_split\n",
    "from sklearn.tree import DecisionTreeClassifier\n",
    "import matplotlib.pyplot as plt"
   ]
  },
  {
   "cell_type": "markdown",
   "metadata": {},
   "source": [
    "## Import and Inspect Data"
   ]
  },
  {
   "cell_type": "code",
   "execution_count": 2,
   "metadata": {},
   "outputs": [
    {
     "name": "stdout",
     "output_type": "stream",
     "text": [
      "             Name  Landmass  Zone  Area  Population  Language  Religion  Bars  \\\n",
      "0     Afghanistan         5     1   648          16        10         2     0   \n",
      "1         Albania         3     1    29           3         6         6     0   \n",
      "2         Algeria         4     1  2388          20         8         2     2   \n",
      "3  American-Samoa         6     3     0           0         1         1     0   \n",
      "4         Andorra         3     1     0           0         6         0     3   \n",
      "\n",
      "   Stripes  Colors  ...  Saltires  Quarters  Sunstars  Crescent  Triangle  \\\n",
      "0        3       5  ...         0         0         1         0         0   \n",
      "1        0       3  ...         0         0         1         0         0   \n",
      "2        0       3  ...         0         0         1         1         0   \n",
      "3        0       5  ...         0         0         0         0         1   \n",
      "4        0       3  ...         0         0         0         0         0   \n",
      "\n",
      "   Icon  Animate Text  Topleft  Botright  \n",
      "0     1        0    0    black     green  \n",
      "1     0        1    0      red       red  \n",
      "2     0        0    0    green     white  \n",
      "3     1        1    0     blue       red  \n",
      "4     0        0    0     blue       red  \n",
      "\n",
      "[5 rows x 30 columns]\n",
      "<class 'pandas.core.frame.DataFrame'>\n",
      "RangeIndex: 194 entries, 0 to 193\n",
      "Data columns (total 30 columns):\n",
      " #   Column      Non-Null Count  Dtype \n",
      "---  ------      --------------  ----- \n",
      " 0   Name        194 non-null    object\n",
      " 1   Landmass    194 non-null    int64 \n",
      " 2   Zone        194 non-null    int64 \n",
      " 3   Area        194 non-null    int64 \n",
      " 4   Population  194 non-null    int64 \n",
      " 5   Language    194 non-null    int64 \n",
      " 6   Religion    194 non-null    int64 \n",
      " 7   Bars        194 non-null    int64 \n",
      " 8   Stripes     194 non-null    int64 \n",
      " 9   Colors      194 non-null    int64 \n",
      " 10  Red         194 non-null    int64 \n",
      " 11  Green       194 non-null    int64 \n",
      " 12  Blue        194 non-null    int64 \n",
      " 13  Gold        194 non-null    int64 \n",
      " 14  White       194 non-null    int64 \n",
      " 15  Black       194 non-null    int64 \n",
      " 16  Orange      194 non-null    int64 \n",
      " 17  Mainhue     194 non-null    object\n",
      " 18  Circles     194 non-null    int64 \n",
      " 19  Crosses     194 non-null    int64 \n",
      " 20  Saltires    194 non-null    int64 \n",
      " 21  Quarters    194 non-null    int64 \n",
      " 22  Sunstars    194 non-null    int64 \n",
      " 23  Crescent    194 non-null    int64 \n",
      " 24  Triangle    194 non-null    int64 \n",
      " 25  Icon        194 non-null    int64 \n",
      " 26  Animate     194 non-null    int64 \n",
      " 27  Text        194 non-null    int64 \n",
      " 28  Topleft     194 non-null    object\n",
      " 29  Botright    194 non-null    object\n",
      "dtypes: int64(26), object(4)\n",
      "memory usage: 45.6+ KB\n",
      "None\n"
     ]
    }
   ],
   "source": [
    "flags = pd.read_csv(\"flags.csv\", header = 0)\n",
    "\n",
    "print(flags.head())\n",
    "print(flags.info())"
   ]
  },
  {
   "cell_type": "markdown",
   "metadata": {},
   "source": [
    "This data has 30 columns and 194 entries with no missing values.  Some columns relate to demographics of the country listed, but most describe the features of its flag."
   ]
  },
  {
   "cell_type": "markdown",
   "metadata": {},
   "source": [
    "## Predict Landmass by Color"
   ]
  },
  {
   "cell_type": "code",
   "execution_count": 4,
   "metadata": {},
   "outputs": [
    {
     "name": "stdout",
     "output_type": "stream",
     "text": [
      "155 155\n",
      "39 39\n"
     ]
    }
   ],
   "source": [
    "## Analyze Landmass column\n",
    "labels = flags['Landmass']\n",
    "data = flags[[\"Red\", \"Green\", \"Blue\", \"Gold\", \"White\", \"Black\", \"Orange\", \"Circles\", \"Crosses\",\"Saltires\",\"Quarters\",\"Sunstars\", \"Crescent\",\"Triangle\"]]\n",
    "\n",
    "# Split data into training and test\n",
    "train_data, test_data, train_labels, test_labels = train_test_split(data, labels, test_size = .2, random_state=1)\n",
    "print(len(train_data), len(train_labels))\n",
    "print(len(test_data), len(test_labels))"
   ]
  },
  {
   "cell_type": "markdown",
   "metadata": {},
   "source": [
    "The training set has 155 values and the test has 39."
   ]
  },
  {
   "cell_type": "markdown",
   "metadata": {},
   "source": [
    "## Fit Model"
   ]
  },
  {
   "cell_type": "code",
   "execution_count": 5,
   "metadata": {},
   "outputs": [
    {
     "name": "stdout",
     "output_type": "stream",
     "text": [
      "Accuracy Score:\n"
     ]
    },
    {
     "data": {
      "text/plain": [
       "0.46153846153846156"
      ]
     },
     "execution_count": 5,
     "metadata": {},
     "output_type": "execute_result"
    }
   ],
   "source": [
    "tree = DecisionTreeClassifier(random_state = 1)\n",
    "tree.fit(train_data, train_labels)\n",
    "print(\"Accuracy Score:\")\n",
    "tree.score(test_data, test_labels)"
   ]
  },
  {
   "cell_type": "markdown",
   "metadata": {},
   "source": [
    "Let's see if we can improve our score with pruning."
   ]
  },
  {
   "cell_type": "markdown",
   "metadata": {},
   "source": [
    "## Prune the Model to Improve its Fit"
   ]
  },
  {
   "cell_type": "code",
   "execution_count": 8,
   "metadata": {},
   "outputs": [
    {
     "data": {
      "image/png": "[encoded data removed]",
      "text/plain": [
       "<Figure size 432x288 with 1 Axes>"
      ]
     },
     "metadata": {
      "needs_background": "light"
     },
     "output_type": "display_data"
    }
   ],
   "source": [
    "## Find the Optimal Tree Depth\n",
    "scores = []\n",
    "for i in range(1, 21):\n",
    "    tree = DecisionTreeClassifier(random_state = 1, max_depth = i)\n",
    "    tree.fit(train_data, train_labels)\n",
    "    scores.append(tree.score(test_data, test_labels))\n",
    "plt.plot(range(1, 21), scores)\n",
    "plt.title('Tree Scores')\n",
    "plt.xlabel(\"Tree Depth\")\n",
    "plt.ylabel(\"Accuracy Score\")\n",
    "plt.show()"
   ]
  },
  {
   "cell_type": "markdown",
   "metadata": {},
   "source": [
    "It appears that the optimal tree depth is around 5, which would give us an accuracy score of about 0.56."
   ]
  }
 ],
 "metadata": {
  "kernelspec": {
   "display_name": "Python 3",
   "language": "python",
   "name": "python3"
  },
  "language_info": {
   "codemirror_mode": {
    "name": "ipython",
    "version": 3
   },
   "file_extension": ".py",
   "mimetype": "text/x-python",
   "name": "python",
   "nbconvert_exporter": "python",
   "pygments_lexer": "ipython3",
   "version": "3.7.6"
  }
 },
 "nbformat": 4,
 "nbformat_minor": 4
}
